{
  "nbformat": 4,
  "nbformat_minor": 0,
  "metadata": {
    "colab": {
      "provenance": []
    },
    "kernelspec": {
      "name": "python3",
      "display_name": "Python 3"
    },
    "language_info": {
      "name": "python"
    }
  },
  "cells": [
    {
      "cell_type": "code",
      "execution_count": null,
      "metadata": {
        "colab": {
          "base_uri": "https://localhost:8080/"
        },
        "id": "ySSZcXUaKdqb",
        "outputId": "437f4f79-ecb1-4e20-fe56-cc98cf9b8ce0"
      },
      "outputs": [
        {
          "output_type": "stream",
          "name": "stdout",
          "text": [
            "                 prov_name  quality_index  normalized_quality_index\n",
            "0                Agrigento           78.8                 29.484305\n",
            "1    Barletta-Andria-Trani          128.8                 51.905830\n",
            "2                   Varese          150.7                 61.726457\n",
            "3                  Venezia          147.5                 60.291480\n",
            "4     Verbano-Cusio-Ossola          137.6                 55.852018\n",
            "..                     ...            ...                       ...\n",
            "102                Trapani          100.0                 38.991031\n",
            "103                 Trento          180.3                 75.000000\n",
            "104                Treviso          141.1                 57.421525\n",
            "105                Trieste          170.0                 70.381166\n",
            "106                  Udine          159.9                 65.852018\n",
            "\n",
            "[107 rows x 3 columns]\n"
          ]
        }
      ],
      "source": [
        "import pandas as pd\n",
        "\n",
        "# Caricamento dei dati\n",
        "bassa = pd.read_csv('BES_Istat/classeBenessereBASSA.csv')\n",
        "medio_bassa = pd.read_csv('BES_Istat/classeBenessereMEDIO-BASSA.csv')\n",
        "media = pd.read_csv('BES_Istat/classeBenessereMEDIA.csv')\n",
        "medio_alta = pd.read_csv('BES_Istat/classeBenessereMEDIO-ALTA.csv')\n",
        "alta = pd.read_csv('BES_Istat/classeBenessereALTA.csv')\n",
        "\n",
        "# Manipola i dati per convertire le percentuali in formato corretto (float)\n",
        "def convert_percent(x):\n",
        "    return float(x.replace(\",\", \".\"))\n",
        "\n",
        "bassa[\"value\"] = bassa[\"value\"].apply(convert_percent)\n",
        "medio_bassa[\"value\"] = medio_bassa[\"value\"].apply(convert_percent)\n",
        "media[\"value\"] = media[\"value\"].apply(convert_percent)\n",
        "medio_alta[\"value\"] = medio_alta[\"value\"].apply(convert_percent)\n",
        "alta[\"value\"] = alta[\"value\"].apply(convert_percent)\n",
        "\n",
        "# Unisci i dati dei vari DataFrame in uno\n",
        "merged_classiBes = pd.merge(bassa, medio_bassa, on=\"prov_name\", suffixes=(\"_bassa\", \"_mediobassa\"))\n",
        "merged_classiBes = pd.merge(merged_classiBes, media, on=\"prov_name\")\n",
        "merged_classiBes = pd.merge(merged_classiBes, medio_alta, on=\"prov_name\", suffixes=(\"_media\", \"_medioalta\"))\n",
        "merged_classiBes = pd.merge(merged_classiBes, alta, on=\"prov_name\")\n",
        "\n",
        "# Calcola l'indice di qualità della vita\n",
        "merged_classiBes[\"quality_index\"] = (\n",
        "    100 - merged_classiBes[\"value_bassa\"] - merged_classiBes[\"value_mediobassa\"] +\n",
        "    merged_classiBes[\"value_media\"] + merged_classiBes[\"value_medioalta\"] + merged_classiBes[\"value\"]\n",
        ")\n",
        "\n",
        "# Normalizza l'indice di qualità della vita in un intervallo da 0 a 100\n",
        "min_value = merged_classiBes[\"quality_index\"].min()\n",
        "max_value = merged_classiBes[\"quality_index\"].max()\n",
        "merged_classiBes[\"normalized_quality_index\"] = 25 + 50 * (merged_classiBes[\"quality_index\"] - min_value) / (max_value - min_value)\n",
        "\n",
        "# Mostra il DataFrame risultante\n",
        "print(merged_classiBes[[\"prov_name\", \"quality_index\", \"normalized_quality_index\"]])\n",
        "merged_classiBes[[\"prov_name\", \"quality_index\", \"normalized_quality_index\"]].to_csv(\"BES_Istat/IdQ BES.csv\", index=False)"
      ]
    },
    {
      "cell_type": "code",
      "source": [
        "import pandas as pd\n",
        "\n",
        "# Caricamento dei dati\n",
        "classificaSole = pd.read_csv('Classifica_Sole24/classificaSole24.csv', sep=';')\n",
        "\n",
        "# Manipola i dati per convertire le percentuali in formato corretto (float)\n",
        "def convert_percent(x):\n",
        "    return float(x.replace(\",\", \".\"))\n",
        "\n",
        "classificaSole[\"Punteggio\"] = classificaSole[\"Punteggio\"].apply(convert_percent)\n",
        "\n",
        "# Normalizza l'indice di qualità della vita in un intervallo da 0 a 100\n",
        "min_value = classificaSole[\"Punteggio\"].min()\n",
        "max_value = classificaSole[\"Punteggio\"].max()\n",
        "classificaSole[\"normalized_Punteggio\"] = 25 + 50 * (classificaSole[\"Punteggio\"] - min_value) / (max_value - min_value)\n",
        "\n",
        "# Mostra il DataFrame risultante\n",
        "print(classificaSole)\n",
        "classificaSole.to_csv(\"Classifica_Sole24/IdQ Sole.csv\", index=False)"
      ],
      "metadata": {
        "colab": {
          "base_uri": "https://localhost:8080/"
        },
        "id": "9lm3Hj0qLPca",
        "outputId": "db324694-9966-47f3-c11d-a8d56f04497a"
      },
      "execution_count": null,
      "outputs": [
        {
          "output_type": "stream",
          "name": "stdout",
          "text": [
            "         Provincia  Punteggio  normalized_Punteggio\n",
            "0            Udine     605.68             75.000000\n",
            "1          Bologna     598.24             73.174950\n",
            "2           Trento     597.09             72.892852\n",
            "3            Aosta     594.21             72.186381\n",
            "4          Bergamo     592.33             71.725212\n",
            "..             ...        ...                   ...\n",
            "102        Crotone     415.40             28.323848\n",
            "103       Siracusa     415.40             28.323848\n",
            "104         Napoli     412.22             27.543786\n",
            "105  Caltanissetta     404.81             25.726095\n",
            "106         Foggia     401.85             25.000000\n",
            "\n",
            "[107 rows x 3 columns]\n"
          ]
        }
      ]
    },
    {
      "cell_type": "markdown",
      "source": [
        "I due file csv vengono corretti manualmente per far combaciare i nomi delle province"
      ],
      "metadata": {
        "id": "H__7LovZQ3p_"
      }
    },
    {
      "cell_type": "code",
      "source": [
        "import pandas as pd\n",
        "\n",
        "# Caricamento dei dati\n",
        "IdQ_BES = pd.read_csv('IdQ BES_Correct.csv')\n",
        "IdQ_Sole = pd.read_csv('IdQ Sole_Correct.csv')\n",
        "\n",
        "# Unione dei due DataFrame in base al nome della provincia\n",
        "merged_IdQ = pd.merge(IdQ_BES, IdQ_Sole, left_on=\"prov_name\", right_on=\"Provincia\", how=\"inner\")\n",
        "\n",
        "# Calcola la media tra \"normalized_Punteggio\" e \"normalized_quality_index\"\n",
        "merged_IdQ[\"IdQ\"] = (merged_IdQ[\"normalized_quality_index\"] + merged_IdQ[\"normalized_Punteggio\"]*2) / 3\n",
        "\n",
        "# Crea un nuovo DataFrame con le colonne desiderate\n",
        "finalResult = merged_IdQ[[\"Provincia\", \"IdQ\"]]\n",
        "\n",
        "# Salva il nuovo DataFrame in un file CSV\n",
        "print(finalResult)\n",
        "finalResult.to_csv(\"IdQ_Province.csv\", index=False)"
      ],
      "metadata": {
        "colab": {
          "base_uri": "https://localhost:8080/"
        },
        "id": "5zajSq8ALuGP",
        "outputId": "33c41595-42c0-4b45-efc5-7791ddd01c27"
      },
      "execution_count": null,
      "outputs": [
        {
          "output_type": "stream",
          "name": "stdout",
          "text": [
            "                 Provincia        IdQ\n",
            "0                Agrigento  32.705827\n",
            "1    Barletta-Andria-Trani  43.064425\n",
            "2                   Varese  61.216379\n",
            "3                  Venezia  60.845987\n",
            "4     Verbano-Cusio-Ossola  56.126538\n",
            "..                     ...        ...\n",
            "102                Trapani  34.712002\n",
            "103                 Trento  73.595235\n",
            "104                Treviso  63.369359\n",
            "105                Trieste  69.587881\n",
            "106                  Udine  71.950673\n",
            "\n",
            "[107 rows x 2 columns]\n"
          ]
        }
      ]
    }
  ]
}