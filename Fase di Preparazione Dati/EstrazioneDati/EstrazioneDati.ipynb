{
  "nbformat": 4,
  "nbformat_minor": 0,
  "metadata": {
    "colab": {
      "provenance": []
    },
    "kernelspec": {
      "name": "python3",
      "display_name": "Python 3"
    },
    "language_info": {
      "name": "python"
    }
  },
  "cells": [
    {
      "cell_type": "markdown",
      "source": [
        "Definizione di tutti i metodi usati. **AVVIARE PRIMA DI QUALSIASI ALTRO CODICE**"
      ],
      "metadata": {
        "id": "pXjjWSLneUFT"
      }
    },
    {
      "cell_type": "code",
      "source": [
        "import json\n",
        "import re\n",
        "import time\n",
        "\n",
        "from geopy.geocoders import Nominatim\n",
        "from geopy.extra.rate_limiter import RateLimiter\n",
        "from geopy.exc import GeocoderTimedOut, GeocoderQuotaExceeded\n",
        "\n",
        "from sklearn.neighbors import BallTree\n",
        "import numpy as np\n",
        "\n",
        "\n",
        "with open('CL_ITTER107.json', 'r') as file:\n",
        "    data = json.load(file)\n",
        "\n",
        "# Estrai la lista di codici dal file JSON\n",
        "codes = data['data']['codelists'][0]['codes']\n",
        "\n",
        "# Funzione per trovare l'id in base al nome del comune\n",
        "def find_id_comune_by_name(name):\n",
        "    for code in codes:\n",
        "        if code['name']['it'] == name and re.match(\"^\\d{6}$\", code['id']):\n",
        "            return code['id']\n",
        "    return None\n",
        "\n",
        "# Funzione per trovare l'id in base al nome della regione\n",
        "def find_id_regione_by_name(name):\n",
        "    for code in codes:\n",
        "        if code['name']['it'] == name and re.match(\"^IT.*$\", code['id']):\n",
        "            return code['id']\n",
        "    return None\n",
        "\n",
        "# Funzione per ottenere gli abitanti di un comume\n",
        "def extract_abitanti_observation(response_json):\n",
        "    try:\n",
        "        observation = response_json['data']['dataSets'][0]['series']['0:0:0:0:0:0']['observations']['0'][0]\n",
        "        return observation\n",
        "    except KeyError:\n",
        "        return None\n",
        "\n",
        "# Funzione per ottenere i problemi in una regione\n",
        "def extract_problemi_observation(response_json):\n",
        "    try:\n",
        "        observation = response_json['data']['dataSets'][0]['series']['0:0:0:0:0:0:0:0:0:0:0:0:0:0:0']['observations']['0'][0]\n",
        "        return observation\n",
        "    except KeyError:\n",
        "        return None\n",
        "\n",
        "# Funzione per ottenere le denunce in una regione\n",
        "def extract_denunce_observation(response_json):\n",
        "    try:\n",
        "        observation = response_json['data']['dataSets'][0]['series']['0:0:0:0']['observations']['0'][0]\n",
        "        return observation\n",
        "    except KeyError:\n",
        "        return None\n",
        "\n",
        "# Funzione per ottenere la spesa media in una regione\n",
        "def extract_spesamedia_observation(response_json):\n",
        "    try:\n",
        "        observation = response_json['data']['dataSets'][0]['series']['0:0:0:0:0:0:0:0:0:0:0']['observations']['0'][0]\n",
        "        return observation\n",
        "    except KeyError:\n",
        "        return None\n",
        "\n",
        "# Funzione per ottenere la superficie di un comune\n",
        "def extract_superficie_observation(response_json):\n",
        "    try:\n",
        "        observation = response_json['data']['dataSets'][0]['series']['0:0:0']['observations']['0'][0]\n",
        "        return observation\n",
        "    except KeyError:\n",
        "        return None\n",
        "\n",
        "# Funzione per ottenere le aree a rischio idrogeologico in km2\n",
        "def extract_rischi_idro_observation(response_json):\n",
        "    try:\n",
        "        observationHIGH = response_json['data']['dataSets'][0]['series']['0:0:0']['observations']['0'][0]\n",
        "        observationLOW = response_json['data']['dataSets'][0]['series']['0:0:1']['observations']['0'][0]\n",
        "        observationMED = response_json['data']['dataSets'][0]['series']['0:0:2']['observations']['0'][0]\n",
        "        observations= [observationLOW, observationMED, observationHIGH]\n",
        "        return observations\n",
        "    except KeyError:\n",
        "        return None\n",
        "\n",
        "# Funzione per ottenere location da un comune\n",
        "def trova_location(comune):\n",
        "    geolocator = Nominatim(user_agent=\"FindYourPlace\")\n",
        "    geocode = RateLimiter(geolocator.geocode, min_delay_seconds=1, max_retries=5)\n",
        "\n",
        "    try:\n",
        "      structuredQuery = {\n",
        "        \"postalcode\" : '',\n",
        "        \"state\" : '',\n",
        "        \"country\" : 'Italia',\n",
        "        \"street\" : '',\n",
        "        \"city\" : {comune}\n",
        "      }\n",
        "\n",
        "      location = geocode(structuredQuery)\n",
        "      if location is None:\n",
        "        location = geocode(comune)\n",
        "    except (GeocoderTimedOut, GeocoderQuotaExceeded, TimeoutError) as e:\n",
        "      if (TimeoutError, GeocoderQuotaExceeded):\n",
        "            print(e)\n",
        "      else:\n",
        "            print(f'Location not found: {e}')\n",
        "            return None\n",
        "\n",
        "    if location is None:\n",
        "        print(f'Location for {comune} not found')\n",
        "    return location\n",
        "\n",
        "# Funzione per ottenere le coordinate di un comune\n",
        "def trova_coordinate(comune):\n",
        "    loc= trova_location(comune)\n",
        "\n",
        "    if loc:\n",
        "        latitudine, longitudine = loc.latitude, loc.longitude\n",
        "        return latitudine, longitudine\n",
        "    else:\n",
        "        return None\n",
        "\n",
        "# Funzione per ottenere il bounding box di un comune\n",
        "def get_bounding_box(comune, bbox_type):\n",
        "    valid = {\"have\", \"overpass\"}\n",
        "    if bbox_type not in valid:\n",
        "      raise ValueError(\"results: type must be one of %r.\" % valid)\n",
        "\n",
        "    loc = trova_location(comune)\n",
        "\n",
        "    if loc:\n",
        "        bounding_box = loc.raw.get('boundingbox', None)\n",
        "        if bounding_box:\n",
        "            if bbox_type==\"have\":\n",
        "              return bounding_box[2], bounding_box[0], bounding_box[3], bounding_box[1]\n",
        "            elif bbox_type==\"overpass\":\n",
        "              return bounding_box[0], bounding_box[2], bounding_box[1], bounding_box[3]\n",
        "\n",
        "    return None\n",
        "\n",
        "# Funzione per ottenere le coordinate più vicine in un dataframe\n",
        "def trova_coordinate_vicine(latitudine, longitudine, dataframe):\n",
        "    bt = BallTree(np.deg2rad(dataframe[['LAT', 'LON']].values), metric='haversine')\n",
        "    distanze, indici = bt.query(np.deg2rad(np.c_[latitudine, longitudine]))\n",
        "\n",
        "    nearest = dataframe.iloc[indici[0]]\n",
        "\n",
        "    return nearest[['LAT', 'LON', 'Zona Sismica']]\n",
        "\n"
      ],
      "metadata": {
        "id": "VR6opTBEeRqj"
      },
      "execution_count": 201,
      "outputs": []
    },
    {
      "cell_type": "markdown",
      "source": [
        ">Trova popolazione in base al nome del comune"
      ],
      "metadata": {
        "id": "IJ9dcgCxwFKs"
      }
    },
    {
      "cell_type": "code",
      "execution_count": null,
      "metadata": {
        "colab": {
          "base_uri": "https://localhost:8080/"
        },
        "id": "DPpBlfYSZVgW",
        "outputId": "61496970-71ac-4bf3-f737-862d5e4f516a"
      },
      "outputs": [
        {
          "output_type": "stream",
          "name": "stdout",
          "text": [
            "L'id corrispondente al nome 'Salerno' è: 065116\n",
            "L'observation estratto è: 127485\n"
          ]
        }
      ],
      "source": [
        "import requests\n",
        "import re\n",
        "\n",
        "# Trova id tramite nome comune\n",
        "comune_to_find = 'Salerno'\n",
        "id_comune_found = find_id_comune_by_name(comune_to_find)\n",
        "\n",
        "if id_comune_found:\n",
        "    print(f\"L'id corrispondente al nome '{comune_to_find}' è: {id_comune_found}\")\n",
        "else:\n",
        "    print(f\"Nome '{comune_to_find}' non trovato.\")\n",
        "\n",
        "# Costruisci l'URL con l'id trovato\n",
        "api_url = f'https://sdmx.istat.it/SDMXWS/rest/data/22_289/.TOTAL.{id_comune_found}.9.99.?startPeriod=2023&format=jsondata'\n",
        "\n",
        "# Effettua la richiesta all'API\n",
        "response = requests.get(api_url)\n",
        "\n",
        "# Verifica se la richiesta ha avuto successo (status code 200)\n",
        "if response.status_code == 200:\n",
        "    # Estrai l'observation dalla risposta JSON\n",
        "    observation = extract_abitanti_observation(response.json())\n",
        "\n",
        "    if observation is not None:\n",
        "        print(f\"L'observation della popolazione estratto è: {observation}\")\n",
        "    else:\n",
        "        print(\"Observation della popolazione non trovato nella risposta JSON.\")\n",
        "else:\n",
        "    print(f\"Errore nella richiesta all'API. Codice di stato: {response.status_code}\")\n"
      ]
    },
    {
      "cell_type": "markdown",
      "source": [
        "Trova presenza di problemi nella zona di residenza delle famiglie, come inquinamento, rumori o criminalità.<br>\n",
        "Trova numero segnalazioni di denunce e arresti."
      ],
      "metadata": {
        "id": "Xgc2u5SF2UVX"
      }
    },
    {
      "cell_type": "code",
      "source": [
        "import requests\n",
        "import re\n",
        "from enum import Enum\n",
        "\n",
        "# Trova id tramite nome regione oppure Nord-Centro-Sud\n",
        "regione_to_find = 'Campania'\n",
        "id_regione_found = find_id_regione_by_name(regione_to_find)\n",
        "\n",
        "if id_regione_found:\n",
        "    print(f\"L'id corrispondente al nome '{regione_to_find}' è: {id_regione_found}\")\n",
        "else:\n",
        "    print(f\"Nome '{regione_to_find}' non trovato.\")\n",
        "\n",
        "class Problema(Enum):\n",
        "    INQUINAMENTO = 1\n",
        "    RUMORI = 2\n",
        "    CRIMINALITA = 3\n",
        "\n",
        "problema_scelto= Problema.INQUINAMENTO\n",
        "\n",
        "# Costruisci l'URL con l'id trovato\n",
        "api_url = f'https://sdmx.istat.it/SDMXWS/rest/data/33_291/A.{id_regione_found}...{problema_scelto.value}..........?startPeriod=2022&format=jsondata'\n",
        "\n",
        "# Effettua la richiesta all'API\n",
        "response = requests.get(api_url)\n",
        "\n",
        "# Verifica se la richiesta ha avuto successo (status code 200)\n",
        "if response.status_code == 200:\n",
        "    # Estrai l'observation dalla risposta JSON\n",
        "    observation = extract_problemi_observation(response.json())\n",
        "\n",
        "    if observation is not None:\n",
        "        print(f\"L'observation di {problema_scelto.name} estratto è: {observation}\")\n",
        "    else:\n",
        "        print(f\"Observation di {problema_scelto.name} non trovato nella risposta JSON.\")\n",
        "else:\n",
        "    print(f\"Errore nella richiesta all'API. Codice di stato: {response.status_code}\")\n",
        "\n",
        "\n",
        "#### Segnalazioni relative a persone denunciate e arresti\n",
        "\n",
        "# Costruisci l'URL con l'id trovato\n",
        "api_url = f'https://sdmx.istat.it/SDMXWS/rest/data/73_342/A.{id_regione_found}.REPN.TOT.?startPeriod=2022&format=jsondata'\n",
        "\n",
        "# Effettua la richiesta all'API\n",
        "response = requests.get(api_url)\n",
        "\n",
        "# Verifica se la richiesta ha avuto successo (status code 200)\n",
        "if response.status_code == 200:\n",
        "    # Estrai l'observation dalla risposta JSON\n",
        "    observation = extract_denunce_observation(response.json())\n",
        "\n",
        "    if observation is not None:\n",
        "        print(f\"L'observation delle denunce estratto è: {observation}\")\n",
        "    else:\n",
        "        print(f\"Observation delle denunce non trovato nella risposta JSON.\")\n",
        "else:\n",
        "    print(f\"Errore nella richiesta all'API. Codice di stato: {response.status_code}\")\n"
      ],
      "metadata": {
        "colab": {
          "base_uri": "https://localhost:8080/"
        },
        "id": "NQn2qCnHwJBI",
        "outputId": "876ce6d9-a472-48a5-f37d-ebc142131ec1"
      },
      "execution_count": null,
      "outputs": [
        {
          "output_type": "stream",
          "name": "stdout",
          "text": [
            "L'id corrispondente al nome 'Campania' è: ITF3\n",
            "L'observation di INQUINAMENTO estratto è: 22.3\n",
            "L'observation delle denunce estratto è: 71256\n"
          ]
        }
      ]
    },
    {
      "cell_type": "markdown",
      "source": [
        "Trova spesa media per consumi"
      ],
      "metadata": {
        "id": "djfWp4NL6tov"
      }
    },
    {
      "cell_type": "code",
      "source": [
        "import requests\n",
        "import re\n",
        "from enum import Enum\n",
        "\n",
        "# Trova id tramite nome regione oppure Nord-Centro-Sud\n",
        "regione_to_find = 'Campania'\n",
        "id_regione_found = find_id_regione_by_name(regione_to_find)\n",
        "\n",
        "if id_regione_found:\n",
        "    print(f\"L'id corrispondente al nome '{regione_to_find}' è: {id_regione_found}\")\n",
        "else:\n",
        "    print(f\"Nome '{regione_to_find}' non trovato.\")\n",
        "\n",
        "# Costruisci l'URL con l'id trovato\n",
        "api_url = f'https://sdmx.istat.it/SDMXWS/rest/data/31_739/A.HH.99.SPESA_MEDIA..ALL..{id_regione_found}.ALL.ALL.TOT?startPeriod=2021&format=jsondata'\n",
        "\n",
        "# Effettua la richiesta all'API\n",
        "response = requests.get(api_url)\n",
        "\n",
        "# Verifica se la richiesta ha avuto successo (status code 200)\n",
        "if response.status_code == 200:\n",
        "    # Estrai l'observation dalla risposta JSON\n",
        "    observation = extract_spesamedia_observation(response.json())\n",
        "\n",
        "    if observation is not None:\n",
        "        print(f\"L'observation della spesa media estratto è: {observation}\")\n",
        "\n",
        "        costo_vita= None\n",
        "        if observation < 2100:\n",
        "          costo_vita= \"BASSO\"\n",
        "        elif observation > 2700:\n",
        "          costo_vita= \"ALTO\"\n",
        "        else:\n",
        "          costo_vita= \"MEDIO\"\n",
        "        print(f\"Il Costo della Vita corrisponde a: {costo_vita}\")\n",
        "    else:\n",
        "        print(f\"Observation della spesa media non trovato nella risposta JSON.\")\n",
        "\n",
        "else:\n",
        "    print(f\"Errore nella richiesta all'API. Codice di stato: {response.status_code}\")\n"
      ],
      "metadata": {
        "colab": {
          "base_uri": "https://localhost:8080/"
        },
        "id": "FYuYfUnH6xsn",
        "outputId": "d6b8098c-7f82-4080-cc62-8982944a976b"
      },
      "execution_count": null,
      "outputs": [
        {
          "output_type": "stream",
          "name": "stdout",
          "text": [
            "L'id corrispondente al nome 'Campania' è: ITF3\n",
            "L'observation della spesa media estratto è: 2034.65\n",
            "Il Costo della Vita corrisponde a: BASSO\n"
          ]
        }
      ]
    },
    {
      "cell_type": "markdown",
      "source": [
        "Trova aree a pericolosità idraulica in km2"
      ],
      "metadata": {
        "id": "sl_9QpEPC1z9"
      }
    },
    {
      "cell_type": "code",
      "source": [
        "import requests\n",
        "import re\n",
        "from enum import Enum\n",
        "\n",
        "# Trova id tramite nome comune\n",
        "comune_to_find = 'Venezia'\n",
        "id_comune_found = find_id_comune_by_name(comune_to_find)\n",
        "\n",
        "if id_comune_found:\n",
        "    print(f\"L'id corrispondente al nome '{comune_to_find}' è: {id_comune_found}\")\n",
        "else:\n",
        "    print(f\"Nome '{comune_to_find}' non trovato.\")\n",
        "\n",
        "####Superficie di un comune\n",
        "# Costruisci l'URL con l'id trovato\n",
        "api_url = f'https://sdmx.istat.it/SDMXWS/rest/data/729_1050/A.{id_comune_found}.TOTAREA?startPeriod=2023&format=jsondata'\n",
        "\n",
        "# Effettua la richiesta all'API\n",
        "response = requests.get(api_url)\n",
        "\n",
        "superficie= None\n",
        "# Verifica se la richiesta ha avuto successo (status code 200)\n",
        "if response.status_code == 200:\n",
        "    # Estrai l'observation dalla risposta JSON\n",
        "    observation = extract_superficie_observation(response.json())\n",
        "\n",
        "    if observation is not None:\n",
        "        print(f\"L'observation della superficie estratto è: {observation}\")\n",
        "        superficie= observation/100\n",
        "    else:\n",
        "        print(f\"Observation della superficie non trovato nella risposta JSON.\")\n",
        "\n",
        "else:\n",
        "    print(f\"Errore nella richiesta all'API. Codice di stato: {response.status_code}\")\n",
        "\n",
        "\n",
        "####Rischio idrogeologico in km2\n",
        "# Costruisci l'URL con l'id trovato\n",
        "api_url = f'https://sdmx.istat.it/SDMXWS/rest/data/729_995/A.{id_comune_found}.LOWFLHZ+MEDFLHZ+HIGHFLHZ?startPeriod=2017&format=jsondata'\n",
        "\n",
        "# Effettua la richiesta all'API\n",
        "response = requests.get(api_url)\n",
        "\n",
        "rischio_idro= None\n",
        "# Verifica se la richiesta ha avuto successo (status code 200)\n",
        "if response.status_code == 200:\n",
        "    # Estrai l'observation dalla risposta JSON\n",
        "    observations = extract_rischi_idro_observation(response.json())\n",
        "\n",
        "    if observations is not None:\n",
        "        print(f\"L'observationLOW estratto è: {observations[0]}\")\n",
        "        print(f\"L'observationMED estratto è: {observations[1]}\")\n",
        "        print(f\"L'observationHIGH estratto è: {observations[2]}\")\n",
        "\n",
        "        rischio_idro= (observations[0] + observations[1] + observations[2])/superficie*100\n",
        "        print(f\"Il rischio idrogeologico è: {rischio_idro}\")\n",
        "\n",
        "    else:\n",
        "        print(f\"Observation non trovato nella risposta JSON.\")\n",
        "\n",
        "else:\n",
        "    print(f\"Errore nella richiesta all'API. Codice di stato: {response.status_code}\")\n"
      ],
      "metadata": {
        "colab": {
          "base_uri": "https://localhost:8080/"
        },
        "id": "0MpJEVwKC46a",
        "outputId": "146b9fc7-fa43-4b42-d19d-679958453bfb"
      },
      "execution_count": null,
      "outputs": [
        {
          "output_type": "stream",
          "name": "stdout",
          "text": [
            "L'id corrispondente al nome 'Venezia' è: 027042\n",
            "L'observation della superficie estratto è: 41589.27\n",
            "L'observationLOW estratto è: 128.4\n",
            "L'observationMED estratto è: 24.97\n",
            "L'observationHIGH estratto è: 12.11\n",
            "Il rischio idrogeologico è: 39.78910906587204\n"
          ]
        }
      ]
    },
    {
      "cell_type": "markdown",
      "source": [
        "Estrazione Zone Sismiche."
      ],
      "metadata": {
        "id": "GXCXt4mINVqk"
      }
    },
    {
      "cell_type": "code",
      "source": [
        "import pandas as pd\n",
        "\n",
        "# Caricamento dei dati\n",
        "sismi = pd.read_csv('italiaMedianaSismi.csv', sep=';')\n",
        "\n",
        "def convert_percent(x):\n",
        "    return float(x.replace(\",\", \".\"))\n",
        "\n",
        "sismi[\"ag\"] = sismi[\"ag\"].apply(convert_percent)\n",
        "sismi[\"LON\"] = sismi[\"LON\"].apply(convert_percent)\n",
        "sismi[\"LAT\"] = sismi[\"LAT\"].apply(convert_percent)\n",
        "\n",
        "min_value = sismi[\"ag\"].min()\n",
        "max_value = sismi[\"ag\"].max()\n",
        "sismi[\"normalized_ag\"] = 4 * (sismi[\"ag\"] - min_value) / (max_value - min_value)\n",
        "\n",
        "def calcola_rischio(mediana):\n",
        "    if mediana >= 3.0:\n",
        "        return 1\n",
        "    elif 2.0 <= mediana < 3.0:\n",
        "        return 2\n",
        "    elif 1.0 <= mediana < 2.0:\n",
        "        return 3\n",
        "    else:\n",
        "        return 4\n",
        "\n",
        "#Maggiore il numero, più il rischio\n",
        "sismi['Zona Sismica']= sismi['normalized_ag'].apply(calcola_rischio)\n",
        "\n",
        "print(sismi[[\"LON\", \"LAT\", \"Zona Sismica\"]])\n",
        "sismi[[\"LON\", \"LAT\", \"Zona Sismica\"]].to_csv(\"Zone Sismiche.csv\", index=False)"
      ],
      "metadata": {
        "colab": {
          "base_uri": "https://localhost:8080/"
        },
        "id": "DnhLt-NFNgPm",
        "outputId": "af6bcdc5-8966-4f96-e858-88c35358afa7"
      },
      "execution_count": null,
      "outputs": [
        {
          "output_type": "stream",
          "name": "stdout",
          "text": [
            "            LON      LAT  Zona Sismica\n",
            "0       12.0899  47.0710             4\n",
            "1       12.1193  47.0713             4\n",
            "2       12.1487  47.0716             4\n",
            "3       12.1781  47.0719             4\n",
            "4       12.2075  47.0723             4\n",
            "...         ...      ...           ...\n",
            "104560  12.6943  35.3374             4\n",
            "104561  12.7187  35.3376             4\n",
            "104562  12.7432  35.3378             4\n",
            "104563  12.7676  35.3380             4\n",
            "104564  12.7679  35.3179             4\n",
            "\n",
            "[104565 rows x 3 columns]\n"
          ]
        }
      ]
    },
    {
      "cell_type": "markdown",
      "source": [
        "Trova Zona Sismica di un comune"
      ],
      "metadata": {
        "id": "k6eUZYhh4je_"
      }
    },
    {
      "cell_type": "code",
      "source": [
        "import pandas as pd\n",
        "\n",
        "comune_da_cercare = \"Napoli\"\n",
        "coordinate = trova_coordinate(comune_da_cercare)\n",
        "\n",
        "if coordinate:\n",
        "    print(f\"Le coordinate di {comune_da_cercare} sono: {coordinate}\")\n",
        "else:\n",
        "    print(f\"Coordinate non trovate per {comune_da_cercare}\")\n",
        "\n",
        "if coordinate:\n",
        "    zone_sismiche = pd.read_csv('Zone Sismiche.csv')\n",
        "\n",
        "    # Trova le coordinate più vicine al punto di riferimento\n",
        "    near_coords = trova_coordinate_vicine(coordinate[0], coordinate[1], zone_sismiche)\n",
        "\n",
        "    print(f\"Le coordinate più vicine a {comune_da_cercare} sono:\")\n",
        "    print(near_coords)\n",
        "else:\n",
        "    print(f\"Coordinate non trovate per {comune_da_cercare}\")"
      ],
      "metadata": {
        "colab": {
          "base_uri": "https://localhost:8080/"
        },
        "id": "OXkc_QE9bvq8",
        "outputId": "d3b09214-baa0-4363-ce0f-b1a83c50328a"
      },
      "execution_count": 34,
      "outputs": [
        {
          "output_type": "stream",
          "name": "stdout",
          "text": [
            "Le coordinate di Napoli sono: (40.8358846, 14.2487679)\n",
            "Le coordinate più vicine a Napoli sono:\n",
            "           LAT      LON  Zona Sismica\n",
            "60116  40.8455  14.2452             3\n"
          ]
        }
      ]
    },
    {
      "cell_type": "markdown",
      "source": [
        "Trova Bounding Box di un comune e ricerca numero negozi, ristoranti e scuole<br>\n",
        "Purtroppo il limite di pois trovabili è 100, per cui mi limito a cercare in un raggio di X metri solo determinate categorie."
      ],
      "metadata": {
        "id": "SG0laxDv4fZR"
      }
    },
    {
      "cell_type": "code",
      "source": [
        "comune= 'Castel San Giorgio'\n",
        "bounding_box = get_bounding_box(comune,\"have\")\n",
        "coords= trova_coordinate(comune)\n",
        "\n",
        "if bounding_box:\n",
        "    print(f\"Bounding box di {comune}: {bounding_box}\")\n",
        "else:\n",
        "    print(f\"Bounding box non trovato per {comune}\")\n",
        "\n",
        "\n",
        "API_KEY= \"oY1k3tXVkAI8O68lu62eXTEkuOc7TQb6Pwn2S_ZCXKo\"\n",
        "\n",
        "### Trova Negozi\n",
        "api_url = (f'https://geocode.search.hereapi.com/v1/browse?'\n",
        "f'at={coords[0]},{coords[1]}'\n",
        "#f'&in=bbox:{bounding_box[0]},{bounding_box[1]},{bounding_box[2]},{bounding_box[3]}'\n",
        "f'&in=circle:{coords[0]},{coords[1]};r=1000'\n",
        "#https://www.here.com/docs/bundle/places-search-api-developer-guide/page/topics/place_categories/category-600-shopping.html\n",
        "f'&categories=600-6000,600-6100,600-6200,600-6600-0000,600-6700-0000'\n",
        "f'&limit=100&apiKey={API_KEY}')\n",
        "\n",
        "# Effettua la richiesta all'API\n",
        "response = requests.get(api_url)\n",
        "\n",
        "num= None\n",
        "# Verifica se la richiesta ha avuto successo (status code 200)\n",
        "if response.status_code == 200:\n",
        "    # Estrai l'observation dalla risposta JSON\n",
        "    num = len(response.json()[\"items\"])\n",
        "\n",
        "    if num is not None:\n",
        "        print(f\"Numero negozi estratto è: {num}\")\n",
        "    else:\n",
        "        print(f\"Items non trovato nella risposta JSON.\")\n",
        "\n",
        "else:\n",
        "    print(f\"Errore nella richiesta all'API. Codice di stato: {response.status_code}\")\n",
        "\n",
        "\n",
        "### Trova Ristoranti\n",
        "api_url = (f'https://geocode.search.hereapi.com/v1/browse?'\n",
        "f'at={coords[0]},{coords[1]}'\n",
        "#f'&in=bbox:{bounding_box[0]},{bounding_box[1]},{bounding_box[2]},{bounding_box[3]}'\n",
        "f'&in=circle:{coords[0]},{coords[1]};r=200'\n",
        "#https://www.here.com/docs/bundle/places-search-api-developer-guide/page/topics/place_categories/category-600-shopping.html\n",
        "f'&categories=100-1000-0000'\n",
        "f'&limit=100&apiKey={API_KEY}')\n",
        "\n",
        "# Effettua la richiesta all'API\n",
        "response = requests.get(api_url)\n",
        "\n",
        "num= None\n",
        "# Verifica se la richiesta ha avuto successo (status code 200)\n",
        "if response.status_code == 200:\n",
        "    # Estrai l'observation dalla risposta JSON\n",
        "    num = len(response.json()[\"items\"])\n",
        "\n",
        "    if num is not None:\n",
        "        print(f\"Numero ristoranti estratto è: {num}\")\n",
        "    else:\n",
        "        print(f\"Items non trovato nella risposta JSON.\")\n",
        "\n",
        "else:\n",
        "    print(f\"Errore nella richiesta all'API. Codice di stato: {response.status_code}\")\n",
        "\n",
        "### Trova Scuole\n",
        "api_url = (f'https://geocode.search.hereapi.com/v1/browse?'\n",
        "f'at={coords[0]},{coords[1]}'\n",
        "#f'&in=bbox:{bounding_box[0]},{bounding_box[1]},{bounding_box[2]},{bounding_box[3]}'\n",
        "f'&in=circle:{coords[0]},{coords[1]};r=1000'\n",
        "#https://www.here.com/docs/bundle/places-search-api-developer-guide/page/topics/place_categories/category-600-shopping.html\n",
        "f'&categories=800-8200-0000,800-8200-0173,800-8200-0174'\n",
        "f'&limit=100&apiKey={API_KEY}')\n",
        "\n",
        "# Effettua la richiesta all'API\n",
        "response = requests.get(api_url)\n",
        "\n",
        "num= None\n",
        "# Verifica se la richiesta ha avuto successo (status code 200)\n",
        "if response.status_code == 200:\n",
        "    # Estrai l'observation dalla risposta JSON\n",
        "    num = len(response.json()[\"items\"])\n",
        "\n",
        "    if num is not None:\n",
        "        print(f\"Numero scuole estratto è: {num}\")\n",
        "    else:\n",
        "        print(f\"Items non trovato nella risposta JSON.\")\n",
        "\n",
        "else:\n",
        "    print(f\"Errore nella richiesta all'API. Codice di stato: {response.status_code}\")"
      ],
      "metadata": {
        "colab": {
          "base_uri": "https://localhost:8080/"
        },
        "id": "_MieRmhwVbbr",
        "outputId": "001b5bb5-0848-4422-e79e-8fadc563beb8"
      },
      "execution_count": 210,
      "outputs": [
        {
          "output_type": "stream",
          "name": "stdout",
          "text": [
            "Bounding box di Castel San Giorgio: ('14.6525694', '40.7648780', '14.7182108', '40.7980006')\n",
            "Numero negozi estratto è: 8\n",
            "Numero ristoranti estratto è: 1\n",
            "Numero scuole estratto è: 1\n"
          ]
        }
      ]
    },
    {
      "cell_type": "markdown",
      "source": [
        "In questo codice invece provo ad usare overpass, ma in caso di comuni con pochi dati, questo risulterà inaffidabile.<br>\n",
        "Infatti spesso il codice soprastante anche usando solo un certo raggio e certe categorie, riesce a trovare più negozi in un certo paese."
      ],
      "metadata": {
        "id": "feTw-9_oyD9h"
      }
    },
    {
      "cell_type": "code",
      "source": [
        "import requests\n",
        "\n",
        "def trova_numero_negozi(bbox_query):\n",
        "    overpass_endpoint = \"https://overpass-api.de/api/interpreter\"\n",
        "\n",
        "    # Definisci la query Overpass\n",
        "    query = f\"\"\"\n",
        "    [out:json];\n",
        "    (\n",
        "        node[\"shop\"]({bbox_query});\n",
        "        way[\"shop\"]({bbox_query});\n",
        "        relation[\"shop\"]({bbox_query});\n",
        "    );\n",
        "    out count;\n",
        "    \"\"\"\n",
        "\n",
        "    # Parametri della richiesta\n",
        "    params = {\n",
        "        'data': query\n",
        "    }\n",
        "\n",
        "    # Effettua la richiesta\n",
        "    response = requests.get(overpass_endpoint, params=params)\n",
        "\n",
        "    # Estrai il numero di negozi dal risultato\n",
        "    result = response.json()\n",
        "    numero_negozi = result['elements'][0]['tags']['total']\n",
        "\n",
        "    return numero_negozi\n",
        "\n",
        "#specifica bbox\n",
        "comune= 'Castel San Giorgio'\n",
        "bbox = get_bounding_box(comune,\"overpass\")\n",
        "\n",
        "bbox_query = f\"{bbox[0]},{bbox[1]},{bbox[2]},{bbox[3]}\"\n",
        "\n",
        "# Trova il numero di negozi nelle coordinate specificate\n",
        "numero_negozi_trovati = trova_numero_negozi(bbox_query)\n",
        "\n",
        "# Stampa il risultato\n",
        "print(f\"Numero di negozi nel bbox specificato: {numero_negozi_trovati}\")"
      ],
      "metadata": {
        "colab": {
          "base_uri": "https://localhost:8080/"
        },
        "id": "3SIxakvOoG8K",
        "outputId": "74f8122f-d7a4-4114-e7cf-1a7106125499"
      },
      "execution_count": 212,
      "outputs": [
        {
          "output_type": "stream",
          "name": "stdout",
          "text": [
            "Numero di negozi nelle coordinate specificate: 4\n"
          ]
        }
      ]
    },
    {
      "cell_type": "markdown",
      "source": [
        "Creazione dataset IdQ province con dati assegnati"
      ],
      "metadata": {
        "id": "iWMbnByub1O5"
      }
    },
    {
      "cell_type": "code",
      "source": [
        "import pandas as pd\n",
        "\n",
        "province= pd.read_csv('IdQ_Province.csv')\n",
        "print(province)\n",
        "\n",
        "province[['Latitudine', 'Longitudine']] = province['Provincia'].apply(lambda provincia: pd.Series(trova_coordinate(provincia)))\n",
        "\n",
        "print(province)\n",
        "province[['Provincia', 'Latitudine', 'Longitudine', 'IdQ']].to_csv(\"IdQ_Prov_Coords.csv\", index=False)\n",
        "\n",
        "\n",
        "\n"
      ],
      "metadata": {
        "colab": {
          "base_uri": "https://localhost:8080/"
        },
        "id": "EbLeHWzAb1xR",
        "outputId": "931d9bbd-d30a-4a90-da02-9bce675a23fa"
      },
      "execution_count": 47,
      "outputs": [
        {
          "output_type": "stream",
          "name": "stdout",
          "text": [
            "                 Provincia        IdQ\n",
            "0                Agrigento  32.705827\n",
            "1    Barletta-Andria-Trani  43.064425\n",
            "2                   Varese  61.216379\n",
            "3                  Venezia  60.845987\n",
            "4     Verbano-Cusio-Ossola  56.126538\n",
            "..                     ...        ...\n",
            "102                Trapani  34.712002\n",
            "103                 Trento  73.595235\n",
            "104                Treviso  63.369359\n",
            "105                Trieste  69.587881\n",
            "106                  Udine  71.950673\n",
            "\n",
            "[107 rows x 2 columns]\n",
            "                 Provincia        IdQ  Latitudine  Longitudine\n",
            "0                Agrigento  32.705827   37.312299    13.574650\n",
            "1    Barletta-Andria-Trani  43.064425   41.180172    16.146641\n",
            "2                   Varese  61.216379   45.817549     8.826353\n",
            "3                  Venezia  60.845987   45.437191    12.334590\n",
            "4     Verbano-Cusio-Ossola  56.126538   46.115576     8.383597\n",
            "..                     ...        ...         ...          ...\n",
            "102                Trapani  34.712002   38.017432    12.515992\n",
            "103                 Trento  73.595235   46.066423    11.125760\n",
            "104                Treviso  63.369359   45.665850    12.245541\n",
            "105                Trieste  69.587881   45.649648    13.777278\n",
            "106                  Udine  71.950673   46.063463    13.235838\n",
            "\n",
            "[107 rows x 4 columns]\n"
          ]
        }
      ]
    }
  ]
}